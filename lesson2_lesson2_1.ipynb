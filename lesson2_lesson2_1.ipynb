{
  "nbformat": 4,
  "nbformat_minor": 0,
  "metadata": {
    "colab": {
      "provenance": [],
      "include_colab_link": true
    },
    "kernelspec": {
      "name": "python3",
      "display_name": "Python 3"
    },
    "language_info": {
      "name": "python"
    }
  },
  "cells": [
    {
      "cell_type": "markdown",
      "metadata": {
        "id": "view-in-github",
        "colab_type": "text"
      },
      "source": [
        "<a href=\"https://colab.research.google.com/github/travisvj/Python_demo/blob/main/lesson2_lesson2_1.ipynb\" target=\"_parent\"><img src=\"https://colab.research.google.com/assets/colab-badge.svg\" alt=\"Open In Colab\"/></a>"
      ]
    },
    {
      "cell_type": "code",
      "execution_count": null,
      "metadata": {
        "id": "MzMaz_bupBjw",
        "colab": {
          "base_uri": "https://localhost:8080/"
        },
        "outputId": "fb11f595-082e-4908-9539-5458575e5020"
      },
      "outputs": [
        {
          "output_type": "execute_result",
          "data": {
            "text/plain": [
              "14"
            ]
          },
          "metadata": {},
          "execution_count": 1
        }
      ],
      "source": [
        "2 + 3 * 4"
      ]
    },
    {
      "cell_type": "code",
      "source": [
        "(2 + 3) * 4"
      ],
      "metadata": {
        "colab": {
          "base_uri": "https://localhost:8080/"
        },
        "id": "i5DUc_O4rueV",
        "outputId": "a75779cf-dc72-4e83-ea85-a7fbfba63e97"
      },
      "execution_count": null,
      "outputs": [
        {
          "output_type": "execute_result",
          "data": {
            "text/plain": [
              "20"
            ]
          },
          "metadata": {},
          "execution_count": 2
        }
      ]
    },
    {
      "cell_type": "markdown",
      "source": [
        "- 會做6件事\n",
        "- 運算式->會傳出值\n",
        "\n",
        "**運算子的優先順序**\n",
        "- ()\n",
        "- \\**\n",
        "- \\* / % //\n",
        "- \\+ -\n",
        "- ="
      ],
      "metadata": {
        "id": "vzTqXWAzsv9b"
      }
    },
    {
      "cell_type": "code",
      "source": [
        "2 * (1 + 2) ** 2 - 2 ** 2 * 2\n"
      ],
      "metadata": {
        "colab": {
          "base_uri": "https://localhost:8080/"
        },
        "id": "YWsjuKcWr6yO",
        "outputId": "93817886-1b47-4f99-fdeb-5841123e4217"
      },
      "execution_count": null,
      "outputs": [
        {
          "output_type": "execute_result",
          "data": {
            "text/plain": [
              "10"
            ]
          },
          "metadata": {},
          "execution_count": 4
        }
      ]
    },
    {
      "cell_type": "markdown",
      "source": [
        "### 敘述式(statement)"
      ],
      "metadata": {
        "id": "4SWv4SCUx17X"
      }
    },
    {
      "cell_type": "code",
      "source": [
        "n = 2 * (1 + 2) ** 2 - 2 ** 2 * 2\n",
        "\n",
        "n = n * 10\n",
        "\n",
        "n"
      ],
      "metadata": {
        "colab": {
          "base_uri": "https://localhost:8080/"
        },
        "id": "RYk8bEbAxBKz",
        "outputId": "f621e4e5-81f2-4623-f920-3853655d2dbf"
      },
      "execution_count": null,
      "outputs": [
        {
          "output_type": "execute_result",
          "data": {
            "text/plain": [
              "100"
            ]
          },
          "metadata": {},
          "execution_count": 10
        }
      ]
    },
    {
      "cell_type": "markdown",
      "source": [
        "### (*=) 複合指定運算子"
      ],
      "metadata": {
        "id": "oy3OM5-z1w7e"
      }
    },
    {
      "cell_type": "code",
      "source": [
        "n = 2 * (1 + 2) ** 2 - 2 ** 2 * 2\n",
        "\n",
        "n *= 10\n",
        "\n",
        "print(n)"
      ],
      "metadata": {
        "colab": {
          "base_uri": "https://localhost:8080/"
        },
        "id": "E1baC59N14A_",
        "outputId": "0ec2b151-b2cf-44dd-ea08-0e8a2615e010"
      },
      "execution_count": null,
      "outputs": [
        {
          "output_type": "stream",
          "name": "stdout",
          "text": [
            "100\n"
          ]
        }
      ]
    },
    {
      "cell_type": "markdown",
      "source": [
        "### input()使用"
      ],
      "metadata": {
        "id": "4_Eu1YG_7fLm"
      }
    },
    {
      "cell_type": "code",
      "source": [
        "name = input(\"請輸入您的姓名:\")\n",
        "print(\"您的名字:\",name)"
      ],
      "metadata": {
        "colab": {
          "base_uri": "https://localhost:8080/"
        },
        "id": "HSr23u8O7dDN",
        "outputId": "23f24172-5bce-4b17-f2dc-f08f8dad0262"
      },
      "execution_count": null,
      "outputs": [
        {
          "output_type": "stream",
          "name": "stdout",
          "text": [
            "請輸入您的姓名:robert\n",
            "您的名字: robert\n"
          ]
        }
      ]
    },
    {
      "cell_type": "markdown",
      "source": [
        "### python是動態型別"
      ],
      "metadata": {
        "id": "Y6yXYZakB43L"
      }
    },
    {
      "cell_type": "code",
      "source": [
        "name = input(\"請輸入您的姓名:\")\n",
        "type(name)\n",
        "name = 100\n",
        "type(name)\n",
        "name = 100.0\n",
        "type(name)"
      ],
      "metadata": {
        "id": "xzbzqEO1CBjP",
        "outputId": "fd03efdb-bfd9-47e3-e5ad-4a44f35b3020",
        "colab": {
          "base_uri": "https://localhost:8080/"
        }
      },
      "execution_count": null,
      "outputs": [
        {
          "name": "stdout",
          "output_type": "stream",
          "text": [
            "請輸入您的姓名:robert\n"
          ]
        },
        {
          "output_type": "execute_result",
          "data": {
            "text/plain": [
              "float"
            ]
          },
          "metadata": {},
          "execution_count": 19
        }
      ]
    }
  ]
}
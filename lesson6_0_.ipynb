{
 "cells": [
  {
   "cell_type": "code",
   "execution_count": null,
   "id": "ec901e2d",
   "metadata": {},
   "outputs": [],
   "source": [
    "# 結構化專案程式\n",
    "- function\n"
   ]
  },
  {
   "cell_type": "code",
   "execution_count": 1,
   "id": "4780ea55",
   "metadata": {},
   "outputs": [
    {
     "name": "stdout",
     "output_type": "stream",
     "text": [
      "Hello Function\n"
     ]
    }
   ],
   "source": [
    "print (\"Hello Function\")\n"
   ]
  },
  {
   "cell_type": "code",
   "execution_count": null,
   "id": "5884a83e",
   "metadata": {},
   "outputs": [],
   "source": [
    "import random\n",
    "\n",
    "min = 1\n",
    "max = 100\n",
    "count = 0\n",
    "target = random.randint(1, 100)\n",
    "print(target)\n",
    "print(\"===============猜數字遊戲=================:\\n\")\n",
    "while(True):\n",
    "    count += 1\n",
    "    keyin = int(input(\"猜數字範圍{0}~{1}:\".format(min, max)))\n",
    "    if(keyin >=min and keyin <= max):\n",
    "        if(keyin == target):\n",
    "            print(\"賓果!猜對了, 答案是:\", target)\n",
    "            print(\"您猜了\",count,\"次\")\n",
    "            break\n",
    "        elif (keyin > target):\n",
    "            max = keyin\n",
    "            print(\"再小一點\")\n",
    "        elif (keyin < target):\n",
    "            min = keyin\n",
    "            print(\"再大一點\")\n",
    "        print(\"您猜了\",count,\"次\\n\")\n",
    "    else:\n",
    "        print(\"請輸入提示範圍內的數字\")"
   ]
  }
 ],
 "metadata": {
  "kernelspec": {
   "display_name": "myenv",
   "language": "python",
   "name": "python3"
  },
  "language_info": {
   "codemirror_mode": {
    "name": "ipython",
    "version": 3
   },
   "file_extension": ".py",
   "mimetype": "text/x-python",
   "name": "python",
   "nbconvert_exporter": "python",
   "pygments_lexer": "ipython3",
   "version": "3.10.16"
  }
 },
 "nbformat": 4,
 "nbformat_minor": 5
}

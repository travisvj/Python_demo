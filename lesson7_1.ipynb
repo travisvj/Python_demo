{
 "cells": [
  {
   "cell_type": "code",
   "execution_count": 15,
   "id": "1fab90c4",
   "metadata": {},
   "outputs": [
    {
     "name": "stdout",
     "output_type": "stream",
     "text": [
      "22.22222222222222\n",
      "正常範圍\n"
     ]
    }
   ],
   "source": [
    "def caculate_bmi(height:int,weight:int)->float:\n",
    "    return weight / (height / 100) ** 2\n",
    "\n",
    "def get_state(bmi:float)->str:\n",
    "    if bmi <18.5:\n",
    "        return \"體重過輕\"\n",
    "    elif bmi < 24:\n",
    "        return \"正常範圍\"\n",
    "    elif bmi < 27:\n",
    "        return \"過重\"\n",
    "    elif bmi < 30:\n",
    "        return \"輕度肥胖\"\n",
    "    elif bmi < 35:\n",
    "        return \"中度肥胖\"\n",
    "    elif bmi < 40:\n",
    "        return \"重度肥胖\"\n",
    "    \n",
    "bmi = caculate_bmi(height, weight)\n",
    "\n",
    "print(bmi)\n",
    "print(get_state(bmi))\n"
   ]
  }
 ],
 "metadata": {
  "kernelspec": {
   "display_name": "myenv",
   "language": "python",
   "name": "python3"
  },
  "language_info": {
   "codemirror_mode": {
    "name": "ipython",
    "version": 3
   },
   "file_extension": ".py",
   "mimetype": "text/x-python",
   "name": "python",
   "nbconvert_exporter": "python",
   "pygments_lexer": "ipython3",
   "version": "3.10.16"
  }
 },
 "nbformat": 4,
 "nbformat_minor": 5
}
